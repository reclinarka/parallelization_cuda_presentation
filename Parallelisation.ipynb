{
 "cells": [
  {
   "cell_type": "markdown",
   "id": "73e1a2b3",
   "metadata": {},
   "source": [
    "# Parallelisation and GPU Hardware acceleration"
   ]
  },
  {
   "cell_type": "markdown",
   "id": "a88f8630",
   "metadata": {},
   "source": [
    "## Single Thread"
   ]
  },
  {
   "cell_type": "code",
   "execution_count": 1,
   "id": "4fb9fd35",
   "metadata": {},
   "outputs": [],
   "source": [
    "import numba as nb\n",
    "import numpy as np"
   ]
  },
  {
   "cell_type": "code",
   "execution_count": 81,
   "id": "b7375e52",
   "metadata": {},
   "outputs": [],
   "source": [
    "@nb.njit(parallel=False)\n",
    "def st_g_series(factor, ammount, start):\n",
    "    _output = np.zeros(ammount)\n",
    "    for i in nb.prange(ammount):\n",
    "        for _ in range(i+start):\n",
    "            _output[i] += factor ** _\n",
    "    return _output"
   ]
  },
  {
   "cell_type": "code",
   "execution_count": 82,
   "id": "12a3f565",
   "metadata": {},
   "outputs": [
    {
     "name": "stdout",
     "output_type": "stream",
     "text": [
      "Wall time: 77.3 ms\n"
     ]
    }
   ],
   "source": [
    "%%time\n",
    "result_st = st_g_series(0.9,100,1) # 100,000"
   ]
  },
  {
   "cell_type": "code",
   "execution_count": 83,
   "id": "b03c156f",
   "metadata": {},
   "outputs": [
    {
     "data": {
      "image/png": "[encoded data removed]",
      "text/plain": [
       "<Figure size 640x480 with 1 Axes>"
      ]
     },
     "metadata": {},
     "output_type": "display_data"
    }
   ],
   "source": [
    "import matplotlib.pyplot as plt\n",
    "plt.plot(result_st)\n",
    "plt.show()"
   ]
  },
  {
   "cell_type": "markdown",
   "id": "b801034d",
   "metadata": {},
   "source": [
    "### Optimized"
   ]
  },
  {
   "cell_type": "code",
   "execution_count": 87,
   "id": "9f575dc9",
   "metadata": {},
   "outputs": [],
   "source": [
    "@nb.njit(parallel=False)\n",
    "def st_g_series_op(factor, ammount, start=1):\n",
    "    _output = np.zeros(ammount)\n",
    "    for i in range(start):\n",
    "        _output[0] += (factor ** i)\n",
    "    for i in nb.prange(ammount-1):\n",
    "        _output[i+1] = _output[i] + ( factor ** (i+start) )\n",
    "    return _output"
   ]
  },
  {
   "cell_type": "code",
   "execution_count": 88,
   "id": "fac3501b",
   "metadata": {},
   "outputs": [
    {
     "name": "stdout",
     "output_type": "stream",
     "text": [
      "Wall time: 94.2 ms\n"
     ]
    }
   ],
   "source": [
    "%%time\n",
    "result_op = st_g_series_op(0.9,100,1) # 100,000"
   ]
  },
  {
   "cell_type": "code",
   "execution_count": 89,
   "id": "b36982f6",
   "metadata": {},
   "outputs": [
    {
     "data": {
      "image/png": "[encoded data removed]",
      "text/plain": [
       "<Figure size 640x480 with 1 Axes>"
      ]
     },
     "metadata": {},
     "output_type": "display_data"
    }
   ],
   "source": [
    "import matplotlib.pyplot as plt\n",
    "plt.plot(result_op)\n",
    "plt.show()"
   ]
  },
  {
   "cell_type": "markdown",
   "id": "13923ac5",
   "metadata": {},
   "source": [
    "## Multi-Threaded"
   ]
  },
  {
   "cell_type": "code",
   "execution_count": 24,
   "id": "0e08ed91",
   "metadata": {},
   "outputs": [],
   "source": [
    "import numba as nb\n",
    "import numpy as np"
   ]
  },
  {
   "cell_type": "code",
   "execution_count": 25,
   "id": "d91e4e7b",
   "metadata": {},
   "outputs": [
    {
     "data": {
      "text/plain": [
       "24"
      ]
     },
     "execution_count": 25,
     "metadata": {},
     "output_type": "execute_result"
    }
   ],
   "source": [
    "nb.get_num_threads()"
   ]
  },
  {
   "cell_type": "code",
   "execution_count": 26,
   "id": "232ecc51",
   "metadata": {},
   "outputs": [],
   "source": [
    "@nb.njit(parallel=True)\n",
    "def mt_g_series(factor, ammount, start):\n",
    "    _output = np.zeros(ammount)\n",
    "    for i in nb.prange(ammount):\n",
    "        for _ in range(i+start):\n",
    "            _output[i] += factor ** _\n",
    "    return _output"
   ]
  },
  {
   "cell_type": "code",
   "execution_count": 27,
   "id": "6f47f5b7",
   "metadata": {},
   "outputs": [
    {
     "name": "stdout",
     "output_type": "stream",
     "text": [
      "Wall time: 19.7 s\n"
     ]
    }
   ],
   "source": [
    "%%time\n",
    "result_mt = mt_g_series(0.9,100_000,1) # 100,000"
   ]
  },
  {
   "cell_type": "code",
   "execution_count": null,
   "id": "98b54a8d",
   "metadata": {},
   "outputs": [],
   "source": [
    "import matplotlib.pyplot as plt\n",
    "plt.plot(result_mt)\n",
    "plt.show()"
   ]
  },
  {
   "cell_type": "markdown",
   "id": "66570d99",
   "metadata": {},
   "source": [
    "## GPU Parallel"
   ]
  },
  {
   "cell_type": "code",
   "execution_count": 72,
   "id": "71d243be",
   "metadata": {},
   "outputs": [],
   "source": [
    "import numpy as np\n",
    "import numba.cuda as cuda"
   ]
  },
  {
   "cell_type": "code",
   "execution_count": 73,
   "id": "e69743b0",
   "metadata": {},
   "outputs": [
    {
     "name": "stdout",
     "output_type": "stream",
     "text": [
      "Found 1 CUDA devices\n",
      "id 0    b'NVIDIA GeForce RTX 3080 Ti'                              [SUPPORTED]\n",
      "                      Compute Capability: 8.6\n",
      "                           PCI Device ID: 0\n",
      "                              PCI Bus ID: 10\n",
      "                                    UUID: GPU-d9754c71-3054-9ff7-9a61-3fa38787bca2\n",
      "                                Watchdog: Enabled\n",
      "                            Compute Mode: WDDM\n",
      "             FP32/FP64 Performance Ratio: 32\n",
      "Summary:\n",
      "\t1/1 devices are supported\n"
     ]
    },
    {
     "data": {
      "text/plain": [
       "True"
      ]
     },
     "execution_count": 73,
     "metadata": {},
     "output_type": "execute_result"
    }
   ],
   "source": [
    "cuda.detect()"
   ]
  },
  {
   "cell_type": "code",
   "execution_count": 74,
   "id": "e8a564f7",
   "metadata": {},
   "outputs": [],
   "source": [
    "@cuda.jit\n",
    "def gpu_g_calc(_output, factor, start):\n",
    "    pos = cuda.threadIdx.x + cuda.blockDim.x * cuda.blockIdx.x\n",
    "    if pos < _output.size:\n",
    "        for _ in range(pos+start):\n",
    "            _output[pos] += factor ** _"
   ]
  },
  {
   "cell_type": "code",
   "execution_count": 75,
   "id": "fc3577a5",
   "metadata": {},
   "outputs": [],
   "source": [
    "ammount = 100_000 # 100,000\n",
    "dev_c = cuda.device_array((ammount,), np.float64)\n",
    "threadsperblock = 32\n",
    "blockspergrid = (ammount + (threadsperblock - 1)) // threadsperblock"
   ]
  },
  {
   "cell_type": "code",
   "execution_count": 76,
   "id": "391fb94d",
   "metadata": {},
   "outputs": [
    {
     "name": "stdout",
     "output_type": "stream",
     "text": [
      "Wall time: 1.19 s\n"
     ]
    }
   ],
   "source": [
    "%%time\n",
    "gpu_g_calc[blockspergrid, threadsperblock]( dev_c,0.9,1)\n",
    "result_cd = dev_c.copy_to_host() # 1,"
   ]
  },
  {
   "cell_type": "code",
   "execution_count": 77,
   "id": "406f475a",
   "metadata": {},
   "outputs": [
    {
     "data": {
      "image/png": "[encoded data removed]",
      "text/plain": [
       "<Figure size 640x480 with 1 Axes>"
      ]
     },
     "metadata": {},
     "output_type": "display_data"
    }
   ],
   "source": [
    "import matplotlib.pyplot as plt\n",
    "plt.plot(result_cd)\n",
    "plt.show()"
   ]
  },
  {
   "cell_type": "code",
   "execution_count": 6,
   "id": "d2b71ffb",
   "metadata": {},
   "outputs": [],
   "source": [
    "ammount = 1_000_000 # 1,000,000\n",
    "dev_c = cuda.device_array((ammount,), np.float64)\n",
    "threadsperblock = 32\n",
    "blockspergrid = (ammount + (threadsperblock - 1)) // threadsperblock"
   ]
  },
  {
   "cell_type": "code",
   "execution_count": 5,
   "id": "904730c3",
   "metadata": {},
   "outputs": [
    {
     "name": "stdout",
     "output_type": "stream",
     "text": [
      "Wall time: 2min 36s\n"
     ]
    }
   ],
   "source": [
    "%%time\n",
    "gpu_g_calc[blockspergrid, threadsperblock]( dev_c,1.00000001,1)\n",
    "result = dev_c.copy_to_host()"
   ]
  },
  {
   "cell_type": "code",
   "execution_count": 64,
   "id": "6d20f750",
   "metadata": {},
   "outputs": [
    {
     "data": {
      "text/plain": [
       "0.9"
      ]
     },
     "execution_count": 64,
     "metadata": {},
     "output_type": "execute_result"
    }
   ],
   "source": [
    "0.9 ** 1"
   ]
  },
  {
   "cell_type": "code",
   "execution_count": null,
   "id": "0dce8282",
   "metadata": {},
   "outputs": [],
   "source": []
  }
 ],
 "metadata": {
  "kernelspec": {
   "display_name": "Python 3 (ipykernel)",
   "language": "python",
   "name": "python3"
  },
  "language_info": {
   "codemirror_mode": {
    "name": "ipython",
    "version": 3
   },
   "file_extension": ".py",
   "mimetype": "text/x-python",
   "name": "python",
   "nbconvert_exporter": "python",
   "pygments_lexer": "ipython3",
   "version": "3.7.16"
  }
 },
 "nbformat": 4,
 "nbformat_minor": 5
}
