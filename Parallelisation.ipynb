{
 "cells": [
  {
   "cell_type": "markdown",
   "id": "73e1a2b3",
   "metadata": {},
   "source": [
    "# Parallelisation and GPU Hardware acceleration"
   ]
  },
  {
   "cell_type": "markdown",
   "id": "a88f8630",
   "metadata": {},
   "source": [
    "## Single Thread"
   ]
  },
  {
   "cell_type": "code",
   "execution_count": 1,
   "id": "4fb9fd35",
   "metadata": {},
   "outputs": [],
   "source": [
    "import numba as nb\n",
    "import numpy as np"
   ]
  },
  {
   "cell_type": "code",
   "execution_count": 2,
   "id": "b7375e52",
   "metadata": {},
   "outputs": [],
   "source": [
    "@nb.njit(parallel=False)\n",
    "def st_g_series(factor, ammount, start=1):\n",
    "    _output = np.zeros(ammount)\n",
    "    for i in nb.prange(ammount):\n",
    "        for _ in range(i+start):\n",
    "            _output[i] += factor ** _\n",
    "    return _output"
   ]
  },
  {
   "cell_type": "code",
   "execution_count": 3,
   "id": "12a3f565",
   "metadata": {},
   "outputs": [
    {
     "name": "stdout",
     "output_type": "stream",
     "text": [
      "Wall time: 3min 10s\n"
     ]
    }
   ],
   "source": [
    "%%time\n",
    "result_st = st_g_series(0.9,100_000) # 100,000"
   ]
  },
  {
   "cell_type": "code",
   "execution_count": 4,
   "id": "372d4a34",
   "metadata": {
    "scrolled": false
   },
   "outputs": [
    {
     "data": {
      "image/png": "[encoded data removed]",
      "text/plain": [
       "<Figure size 640x480 with 1 Axes>"
      ]
     },
     "metadata": {},
     "output_type": "display_data"
    }
   ],
   "source": [
    "import matplotlib.pyplot as plt\n",
    "plt.plot(result_st)\n",
    "plt.show()"
   ]
  },
  {
   "cell_type": "markdown",
   "id": "b7e7a416",
   "metadata": {},
   "source": [
    "### Single Thread Optimized"
   ]
  },
  {
   "cell_type": "code",
   "execution_count": 5,
   "id": "6274f3fb",
   "metadata": {},
   "outputs": [],
   "source": [
    "@nb.njit(parallel=False)\n",
    "def st_g_series_op(factor, ammount, start=1):\n",
    "    _output = np.zeros(ammount)\n",
    "    for i in range(start):\n",
    "        _output[0] += (factor ** i)\n",
    "    for i in nb.prange(ammount-1):\n",
    "        _output[i+1] = _output[i] + ( factor ** (i+start) )\n",
    "    return _output"
   ]
  },
  {
   "cell_type": "code",
   "execution_count": 6,
   "id": "829bad80",
   "metadata": {},
   "outputs": [
    {
     "name": "stdout",
     "output_type": "stream",
     "text": [
      "Wall time: 87 ms\n"
     ]
    }
   ],
   "source": [
    "%%time\n",
    "result_op = st_g_series_op(0.9,100_000) # 100,000"
   ]
  },
  {
   "cell_type": "code",
   "execution_count": 7,
   "id": "d8451573",
   "metadata": {},
   "outputs": [
    {
     "data": {
      "image/png": "[encoded data removed]",
      "text/plain": [
       "<Figure size 640x480 with 1 Axes>"
      ]
     },
     "metadata": {},
     "output_type": "display_data"
    }
   ],
   "source": [
    "import matplotlib.pyplot as plt\n",
    "plt.plot(result_op)\n",
    "plt.show()"
   ]
  },
  {
   "cell_type": "code",
   "execution_count": 9,
   "id": "d91e4e7b",
   "metadata": {},
   "outputs": [
    {
     "data": {
      "text/plain": [
       "24"
      ]
     },
     "execution_count": 9,
     "metadata": {},
     "output_type": "execute_result"
    }
   ],
   "source": [
    "nb.get_num_threads()"
   ]
  },
  {
   "cell_type": "markdown",
   "id": "13923ac5",
   "metadata": {},
   "source": [
    "## Multi-Threaded"
   ]
  },
  {
   "cell_type": "code",
   "execution_count": 8,
   "id": "0e08ed91",
   "metadata": {},
   "outputs": [],
   "source": [
    "import numba as nb\n",
    "import numpy as np"
   ]
  },
  {
   "cell_type": "code",
   "execution_count": 10,
   "id": "232ecc51",
   "metadata": {},
   "outputs": [],
   "source": [
    "@nb.njit(parallel=True)\n",
    "def mt_g_series(factor, ammount, start=1):\n",
    "    _output = np.zeros(ammount)\n",
    "    for i in nb.prange(ammount):\n",
    "        for _ in range(i+start):\n",
    "            _output[i] += factor ** _\n",
    "    return _output"
   ]
  },
  {
   "cell_type": "code",
   "execution_count": 11,
   "id": "6f47f5b7",
   "metadata": {},
   "outputs": [
    {
     "name": "stdout",
     "output_type": "stream",
     "text": [
      "Wall time: 19.6 s\n"
     ]
    }
   ],
   "source": [
    "%%time\n",
    "result_mt = mt_g_series(0.9,100_000) # 100,000"
   ]
  },
  {
   "cell_type": "code",
   "execution_count": 12,
   "id": "daf25663",
   "metadata": {},
   "outputs": [
    {
     "data": {
      "image/png": "[encoded data removed]",
      "text/plain": [
       "<Figure size 640x480 with 1 Axes>"
      ]
     },
     "metadata": {},
     "output_type": "display_data"
    }
   ],
   "source": [
    "import matplotlib.pyplot as plt\n",
    "plt.plot(result_mt)\n",
    "plt.show()"
   ]
  },
  {
   "cell_type": "markdown",
   "id": "66570d99",
   "metadata": {},
   "source": [
    "## GPU Parallel"
   ]
  },
  {
   "cell_type": "code",
   "execution_count": 13,
   "id": "71d243be",
   "metadata": {},
   "outputs": [],
   "source": [
    "import numpy as np\n",
    "import numba.cuda as cuda"
   ]
  },
  {
   "cell_type": "code",
   "execution_count": 14,
   "id": "e69743b0",
   "metadata": {},
   "outputs": [
    {
     "name": "stdout",
     "output_type": "stream",
     "text": [
      "Found 1 CUDA devices\n",
      "id 0    b'NVIDIA GeForce RTX 3080 Ti'                              [SUPPORTED]\n",
      "                      Compute Capability: 8.6\n",
      "                           PCI Device ID: 0\n",
      "                              PCI Bus ID: 10\n",
      "                                    UUID: GPU-d9754c71-3054-9ff7-9a61-3fa38787bca2\n",
      "                                Watchdog: Enabled\n",
      "                            Compute Mode: WDDM\n",
      "             FP32/FP64 Performance Ratio: 32\n",
      "Summary:\n",
      "\t1/1 devices are supported\n"
     ]
    },
    {
     "data": {
      "text/plain": [
       "True"
      ]
     },
     "execution_count": 14,
     "metadata": {},
     "output_type": "execute_result"
    }
   ],
   "source": [
    "cuda.detect()"
   ]
  },
  {
   "cell_type": "code",
   "execution_count": 15,
   "id": "e8a564f7",
   "metadata": {},
   "outputs": [],
   "source": [
    "@cuda.jit\n",
    "def gpu_g_calc(_output, factor, start):\n",
    "    pos = cuda.threadIdx.x + cuda.blockDim.x * cuda.blockIdx.x\n",
    "    if pos < _output.size:\n",
    "        for _ in range(pos+start):\n",
    "            _output[pos] += factor ** _"
   ]
  },
  {
   "cell_type": "code",
   "execution_count": 16,
   "id": "fc3577a5",
   "metadata": {},
   "outputs": [],
   "source": [
    "ammount = 100_000 # 100,000\n",
    "dev_c = cuda.device_array((ammount,), np.float32)\n",
    "threadsperblock = 128\n",
    "blockspergrid = (ammount + (threadsperblock - 1)) // threadsperblock"
   ]
  },
  {
   "cell_type": "code",
   "execution_count": 17,
   "id": "391fb94d",
   "metadata": {},
   "outputs": [
    {
     "name": "stdout",
     "output_type": "stream",
     "text": [
      "Wall time: 1.13 s\n"
     ]
    }
   ],
   "source": [
    "%%time\n",
    "gpu_g_calc[blockspergrid, threadsperblock]( dev_c,0.9,1)\n",
    "result_cd = dev_c.copy_to_host() # 1,"
   ]
  },
  {
   "cell_type": "code",
   "execution_count": 18,
   "id": "75477af8",
   "metadata": {},
   "outputs": [
    {
     "data": {
      "image/png": "[encoded data removed]",
      "text/plain": [
       "<Figure size 640x480 with 1 Axes>"
      ]
     },
     "metadata": {},
     "output_type": "display_data"
    }
   ],
   "source": [
    "import matplotlib.pyplot as plt\n",
    "plt.plot(result_cd)\n",
    "plt.show()"
   ]
  },
  {
   "cell_type": "code",
   "execution_count": 19,
   "id": "d2b71ffb",
   "metadata": {},
   "outputs": [],
   "source": [
    "ammount = 1_000_000 # 1,000,000\n",
    "dev_c = cuda.device_array((ammount,), np.float32)\n",
    "threadsperblock = 128\n",
    "blockspergrid = (ammount + (threadsperblock - 1)) // threadsperblock"
   ]
  },
  {
   "cell_type": "code",
   "execution_count": 20,
   "id": "904730c3",
   "metadata": {},
   "outputs": [
    {
     "name": "stdout",
     "output_type": "stream",
     "text": [
      "Wall time: 2min 44s\n"
     ]
    }
   ],
   "source": [
    "%%time\n",
    "gpu_g_calc[blockspergrid, threadsperblock]( dev_c,0.9,1)\n",
    "result = dev_c.copy_to_host()"
   ]
  },
  {
   "cell_type": "code",
   "execution_count": null,
   "id": "6d20f750",
   "metadata": {},
   "outputs": [],
   "source": []
  },
  {
   "cell_type": "code",
   "execution_count": null,
   "id": "b7ea74a3",
   "metadata": {},
   "outputs": [],
   "source": []
  }
 ],
 "metadata": {
  "kernelspec": {
   "display_name": "Python 3 (ipykernel)",
   "language": "python",
   "name": "python3"
  },
  "language_info": {
   "codemirror_mode": {
    "name": "ipython",
    "version": 3
   },
   "file_extension": ".py",
   "mimetype": "text/x-python",
   "name": "python",
   "nbconvert_exporter": "python",
   "pygments_lexer": "ipython3",
   "version": "3.7.16"
  }
 },
 "nbformat": 4,
 "nbformat_minor": 5
}
